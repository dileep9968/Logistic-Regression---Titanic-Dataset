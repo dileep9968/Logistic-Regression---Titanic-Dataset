{
 "cells": [
  {
   "cell_type": "code",
   "execution_count": 120,
   "metadata": {},
   "outputs": [
    {
     "data": {
      "text/plain": [
       "LogisticRegression(C=1.0, class_weight=None, dual=False, fit_intercept=True,\n",
       "                   intercept_scaling=1, l1_ratio=None, max_iter=500,\n",
       "                   multi_class='multinomial', n_jobs=None, penalty='l2',\n",
       "                   random_state=None, solver='newton-cg', tol=0.0001, verbose=0,\n",
       "                   warm_start=False)"
      ]
     },
     "execution_count": 120,
     "metadata": {},
     "output_type": "execute_result"
    }
   ],
   "source": [
    "from sklearn.linear_model import LogisticRegression\n",
    "import pandas as pd\n",
    "import numpy as np\n",
    "import warnings\n",
    "from sklearn.preprocessing import Imputer\n",
    "\n",
    "data = pd.read_csv('Dataset/training_titanic_x_y_train.csv')\n",
    "warnings.filterwarnings('ignore')\n",
    "data[\"Pclass\"]=data['Pclass'].astype(dtype=np.int64)\n",
    "data['Age']=data['Age'].fillna(data[\"Age\"].mean())\n",
    "data[\"Age\"]=data['Age'].astype(dtype=np.int64)\n",
    "data[\"Embarked\"]=data[\"Embarked\"].fillna('U')\n",
    "data = data.drop(data.columns[[1,2,6,7,8,9]], axis=1)\n",
    "y = data['Survived'].to_frame()\n",
    "data = data.drop(data.columns[[4]],axis=1)\n",
    "x = data.iloc[:,:].values\n",
    "y = y.values\n",
    "clf = LogisticRegression(solver='newton-cg',max_iter=500,multi_class='multinomial')\n",
    "clf.fit(x,y_train)"
   ]
  },
  {
   "cell_type": "code",
   "execution_count": 121,
   "metadata": {},
   "outputs": [],
   "source": [
    "test = pd.read_csv('Dataset/test_titanic_x_test.csv')\n",
    "test=test.drop(test.columns[[1,2,6,7,8,9]],axis=1)\n",
    "test['Pclass']=test['Pclass'].astype(dtype=np.int64)\n",
    "test['Age']=test['Age'].fillna(test['Age'].mean()).astype(dtype=np.int64)\n",
    "x_test = test.iloc[:,:].values\n",
    "y_pred = clf.predict(x_test)"
   ]
  },
  {
   "cell_type": "code",
   "execution_count": 122,
   "metadata": {},
   "outputs": [],
   "source": [
    "np.savetxt('survived.csv',y_pred)"
   ]
  },
  {
   "cell_type": "code",
   "execution_count": null,
   "metadata": {},
   "outputs": [],
   "source": []
  }
 ],
 "metadata": {
  "kernelspec": {
   "display_name": "Python 3",
   "language": "python",
   "name": "python3"
  },
  "language_info": {
   "codemirror_mode": {
    "name": "ipython",
    "version": 3
   },
   "file_extension": ".py",
   "mimetype": "text/x-python",
   "name": "python",
   "nbconvert_exporter": "python",
   "pygments_lexer": "ipython3",
   "version": "3.7.4"
  }
 },
 "nbformat": 4,
 "nbformat_minor": 2
}
